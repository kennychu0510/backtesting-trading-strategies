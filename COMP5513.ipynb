{
  "cells": [
    {
      "cell_type": "markdown",
      "metadata": {
        "id": "acDjAovaoP6_"
      },
      "source": [
        "# 1.0 Setup"
      ]
    },
    {
      "cell_type": "code",
      "execution_count": 1,
      "metadata": {
        "colab": {
          "base_uri": "https://localhost:8080/"
        },
        "id": "ihoa6DEhnb5v",
        "outputId": "9b14aeba-ba15-47ee-8874-8d4c91f80165"
      },
      "outputs": [
        {
          "name": "stdout",
          "output_type": "stream",
          "text": [
            "Requirement already satisfied: numpy in ./lib/python3.11/site-packages (1.26.2)\n",
            "\n",
            "\u001b[1m[\u001b[0m\u001b[34;49mnotice\u001b[0m\u001b[1;39;49m]\u001b[0m\u001b[39;49m A new release of pip is available: \u001b[0m\u001b[31;49m23.2.1\u001b[0m\u001b[39;49m -> \u001b[0m\u001b[32;49m23.3.1\u001b[0m\n",
            "\u001b[1m[\u001b[0m\u001b[34;49mnotice\u001b[0m\u001b[1;39;49m]\u001b[0m\u001b[39;49m To update, run: \u001b[0m\u001b[32;49mpip install --upgrade pip\u001b[0m\n",
            "Note: you may need to restart the kernel to use updated packages.\n",
            "Requirement already satisfied: pandas in ./lib/python3.11/site-packages (2.1.3)\n",
            "Requirement already satisfied: numpy<2,>=1.23.2 in ./lib/python3.11/site-packages (from pandas) (1.26.2)\n",
            "Requirement already satisfied: python-dateutil>=2.8.2 in ./lib/python3.11/site-packages (from pandas) (2.8.2)\n",
            "Requirement already satisfied: pytz>=2020.1 in ./lib/python3.11/site-packages (from pandas) (2023.3.post1)\n",
            "Requirement already satisfied: tzdata>=2022.1 in ./lib/python3.11/site-packages (from pandas) (2023.3)\n",
            "Requirement already satisfied: six>=1.5 in ./lib/python3.11/site-packages (from python-dateutil>=2.8.2->pandas) (1.16.0)\n",
            "\n",
            "\u001b[1m[\u001b[0m\u001b[34;49mnotice\u001b[0m\u001b[1;39;49m]\u001b[0m\u001b[39;49m A new release of pip is available: \u001b[0m\u001b[31;49m23.2.1\u001b[0m\u001b[39;49m -> \u001b[0m\u001b[32;49m23.3.1\u001b[0m\n",
            "\u001b[1m[\u001b[0m\u001b[34;49mnotice\u001b[0m\u001b[1;39;49m]\u001b[0m\u001b[39;49m To update, run: \u001b[0m\u001b[32;49mpip install --upgrade pip\u001b[0m\n",
            "Note: you may need to restart the kernel to use updated packages.\n",
            "Requirement already satisfied: matplotlib in ./lib/python3.11/site-packages (3.8.2)\n",
            "Requirement already satisfied: contourpy>=1.0.1 in ./lib/python3.11/site-packages (from matplotlib) (1.2.0)\n",
            "Requirement already satisfied: cycler>=0.10 in ./lib/python3.11/site-packages (from matplotlib) (0.12.1)\n",
            "Requirement already satisfied: fonttools>=4.22.0 in ./lib/python3.11/site-packages (from matplotlib) (4.45.1)\n",
            "Requirement already satisfied: kiwisolver>=1.3.1 in ./lib/python3.11/site-packages (from matplotlib) (1.4.5)\n",
            "Requirement already satisfied: numpy<2,>=1.21 in ./lib/python3.11/site-packages (from matplotlib) (1.26.2)\n",
            "Requirement already satisfied: packaging>=20.0 in ./lib/python3.11/site-packages (from matplotlib) (23.2)\n",
            "Requirement already satisfied: pillow>=8 in ./lib/python3.11/site-packages (from matplotlib) (10.1.0)\n",
            "Requirement already satisfied: pyparsing>=2.3.1 in ./lib/python3.11/site-packages (from matplotlib) (3.1.1)\n",
            "Requirement already satisfied: python-dateutil>=2.7 in ./lib/python3.11/site-packages (from matplotlib) (2.8.2)\n",
            "Requirement already satisfied: six>=1.5 in ./lib/python3.11/site-packages (from python-dateutil>=2.7->matplotlib) (1.16.0)\n",
            "\n",
            "\u001b[1m[\u001b[0m\u001b[34;49mnotice\u001b[0m\u001b[1;39;49m]\u001b[0m\u001b[39;49m A new release of pip is available: \u001b[0m\u001b[31;49m23.2.1\u001b[0m\u001b[39;49m -> \u001b[0m\u001b[32;49m23.3.1\u001b[0m\n",
            "\u001b[1m[\u001b[0m\u001b[34;49mnotice\u001b[0m\u001b[1;39;49m]\u001b[0m\u001b[39;49m To update, run: \u001b[0m\u001b[32;49mpip install --upgrade pip\u001b[0m\n",
            "Note: you may need to restart the kernel to use updated packages.\n",
            "Requirement already satisfied: seaborn in ./lib/python3.11/site-packages (0.13.0)\n",
            "Requirement already satisfied: numpy!=1.24.0,>=1.20 in ./lib/python3.11/site-packages (from seaborn) (1.26.2)\n",
            "Requirement already satisfied: pandas>=1.2 in ./lib/python3.11/site-packages (from seaborn) (2.1.3)\n",
            "Requirement already satisfied: matplotlib!=3.6.1,>=3.3 in ./lib/python3.11/site-packages (from seaborn) (3.8.2)\n",
            "Requirement already satisfied: contourpy>=1.0.1 in ./lib/python3.11/site-packages (from matplotlib!=3.6.1,>=3.3->seaborn) (1.2.0)\n",
            "Requirement already satisfied: cycler>=0.10 in ./lib/python3.11/site-packages (from matplotlib!=3.6.1,>=3.3->seaborn) (0.12.1)\n",
            "Requirement already satisfied: fonttools>=4.22.0 in ./lib/python3.11/site-packages (from matplotlib!=3.6.1,>=3.3->seaborn) (4.45.1)\n",
            "Requirement already satisfied: kiwisolver>=1.3.1 in ./lib/python3.11/site-packages (from matplotlib!=3.6.1,>=3.3->seaborn) (1.4.5)\n",
            "Requirement already satisfied: packaging>=20.0 in ./lib/python3.11/site-packages (from matplotlib!=3.6.1,>=3.3->seaborn) (23.2)\n",
            "Requirement already satisfied: pillow>=8 in ./lib/python3.11/site-packages (from matplotlib!=3.6.1,>=3.3->seaborn) (10.1.0)\n",
            "Requirement already satisfied: pyparsing>=2.3.1 in ./lib/python3.11/site-packages (from matplotlib!=3.6.1,>=3.3->seaborn) (3.1.1)\n",
            "Requirement already satisfied: python-dateutil>=2.7 in ./lib/python3.11/site-packages (from matplotlib!=3.6.1,>=3.3->seaborn) (2.8.2)\n",
            "Requirement already satisfied: pytz>=2020.1 in ./lib/python3.11/site-packages (from pandas>=1.2->seaborn) (2023.3.post1)\n",
            "Requirement already satisfied: tzdata>=2022.1 in ./lib/python3.11/site-packages (from pandas>=1.2->seaborn) (2023.3)\n",
            "Requirement already satisfied: six>=1.5 in ./lib/python3.11/site-packages (from python-dateutil>=2.7->matplotlib!=3.6.1,>=3.3->seaborn) (1.16.0)\n",
            "\n",
            "\u001b[1m[\u001b[0m\u001b[34;49mnotice\u001b[0m\u001b[1;39;49m]\u001b[0m\u001b[39;49m A new release of pip is available: \u001b[0m\u001b[31;49m23.2.1\u001b[0m\u001b[39;49m -> \u001b[0m\u001b[32;49m23.3.1\u001b[0m\n",
            "\u001b[1m[\u001b[0m\u001b[34;49mnotice\u001b[0m\u001b[1;39;49m]\u001b[0m\u001b[39;49m To update, run: \u001b[0m\u001b[32;49mpip install --upgrade pip\u001b[0m\n",
            "Note: you may need to restart the kernel to use updated packages.\n",
            "Requirement already satisfied: scipy in ./lib/python3.11/site-packages (1.11.4)\n",
            "Requirement already satisfied: numpy<1.28.0,>=1.21.6 in ./lib/python3.11/site-packages (from scipy) (1.26.2)\n",
            "\n",
            "\u001b[1m[\u001b[0m\u001b[34;49mnotice\u001b[0m\u001b[1;39;49m]\u001b[0m\u001b[39;49m A new release of pip is available: \u001b[0m\u001b[31;49m23.2.1\u001b[0m\u001b[39;49m -> \u001b[0m\u001b[32;49m23.3.1\u001b[0m\n",
            "\u001b[1m[\u001b[0m\u001b[34;49mnotice\u001b[0m\u001b[1;39;49m]\u001b[0m\u001b[39;49m To update, run: \u001b[0m\u001b[32;49mpip install --upgrade pip\u001b[0m\n",
            "Note: you may need to restart the kernel to use updated packages.\n",
            "Requirement already satisfied: yfinance in ./lib/python3.11/site-packages (0.2.32)\n",
            "Requirement already satisfied: pandas>=1.3.0 in ./lib/python3.11/site-packages (from yfinance) (2.1.3)\n",
            "Requirement already satisfied: numpy>=1.16.5 in ./lib/python3.11/site-packages (from yfinance) (1.26.2)\n",
            "Requirement already satisfied: requests>=2.31 in ./lib/python3.11/site-packages (from yfinance) (2.31.0)\n",
            "Requirement already satisfied: multitasking>=0.0.7 in ./lib/python3.11/site-packages (from yfinance) (0.0.11)\n",
            "Requirement already satisfied: lxml>=4.9.1 in ./lib/python3.11/site-packages (from yfinance) (4.9.3)\n",
            "Requirement already satisfied: appdirs>=1.4.4 in ./lib/python3.11/site-packages (from yfinance) (1.4.4)\n",
            "Requirement already satisfied: pytz>=2022.5 in ./lib/python3.11/site-packages (from yfinance) (2023.3.post1)\n",
            "Requirement already satisfied: frozendict>=2.3.4 in ./lib/python3.11/site-packages (from yfinance) (2.3.9)\n",
            "Requirement already satisfied: peewee>=3.16.2 in ./lib/python3.11/site-packages (from yfinance) (3.17.0)\n",
            "Requirement already satisfied: beautifulsoup4>=4.11.1 in ./lib/python3.11/site-packages (from yfinance) (4.12.2)\n",
            "Requirement already satisfied: html5lib>=1.1 in ./lib/python3.11/site-packages (from yfinance) (1.1)\n",
            "Requirement already satisfied: soupsieve>1.2 in ./lib/python3.11/site-packages (from beautifulsoup4>=4.11.1->yfinance) (2.5)\n",
            "Requirement already satisfied: six>=1.9 in ./lib/python3.11/site-packages (from html5lib>=1.1->yfinance) (1.16.0)\n",
            "Requirement already satisfied: webencodings in ./lib/python3.11/site-packages (from html5lib>=1.1->yfinance) (0.5.1)\n",
            "Requirement already satisfied: python-dateutil>=2.8.2 in ./lib/python3.11/site-packages (from pandas>=1.3.0->yfinance) (2.8.2)\n",
            "Requirement already satisfied: tzdata>=2022.1 in ./lib/python3.11/site-packages (from pandas>=1.3.0->yfinance) (2023.3)\n",
            "Requirement already satisfied: charset-normalizer<4,>=2 in ./lib/python3.11/site-packages (from requests>=2.31->yfinance) (3.3.2)\n",
            "Requirement already satisfied: idna<4,>=2.5 in ./lib/python3.11/site-packages (from requests>=2.31->yfinance) (3.6)\n",
            "Requirement already satisfied: urllib3<3,>=1.21.1 in ./lib/python3.11/site-packages (from requests>=2.31->yfinance) (2.1.0)\n",
            "Requirement already satisfied: certifi>=2017.4.17 in ./lib/python3.11/site-packages (from requests>=2.31->yfinance) (2023.11.17)\n",
            "\n",
            "\u001b[1m[\u001b[0m\u001b[34;49mnotice\u001b[0m\u001b[1;39;49m]\u001b[0m\u001b[39;49m A new release of pip is available: \u001b[0m\u001b[31;49m23.2.1\u001b[0m\u001b[39;49m -> \u001b[0m\u001b[32;49m23.3.1\u001b[0m\n",
            "\u001b[1m[\u001b[0m\u001b[34;49mnotice\u001b[0m\u001b[1;39;49m]\u001b[0m\u001b[39;49m To update, run: \u001b[0m\u001b[32;49mpip install --upgrade pip\u001b[0m\n",
            "Note: you may need to restart the kernel to use updated packages.\n",
            "Requirement already satisfied: mplfinance in ./lib/python3.11/site-packages (0.12.10b0)\n",
            "Requirement already satisfied: matplotlib in ./lib/python3.11/site-packages (from mplfinance) (3.8.2)\n",
            "Requirement already satisfied: pandas in ./lib/python3.11/site-packages (from mplfinance) (2.1.3)\n",
            "Requirement already satisfied: contourpy>=1.0.1 in ./lib/python3.11/site-packages (from matplotlib->mplfinance) (1.2.0)\n",
            "Requirement already satisfied: cycler>=0.10 in ./lib/python3.11/site-packages (from matplotlib->mplfinance) (0.12.1)\n",
            "Requirement already satisfied: fonttools>=4.22.0 in ./lib/python3.11/site-packages (from matplotlib->mplfinance) (4.45.1)\n",
            "Requirement already satisfied: kiwisolver>=1.3.1 in ./lib/python3.11/site-packages (from matplotlib->mplfinance) (1.4.5)\n",
            "Requirement already satisfied: numpy<2,>=1.21 in ./lib/python3.11/site-packages (from matplotlib->mplfinance) (1.26.2)\n",
            "Requirement already satisfied: packaging>=20.0 in ./lib/python3.11/site-packages (from matplotlib->mplfinance) (23.2)\n",
            "Requirement already satisfied: pillow>=8 in ./lib/python3.11/site-packages (from matplotlib->mplfinance) (10.1.0)\n",
            "Requirement already satisfied: pyparsing>=2.3.1 in ./lib/python3.11/site-packages (from matplotlib->mplfinance) (3.1.1)\n",
            "Requirement already satisfied: python-dateutil>=2.7 in ./lib/python3.11/site-packages (from matplotlib->mplfinance) (2.8.2)\n",
            "Requirement already satisfied: pytz>=2020.1 in ./lib/python3.11/site-packages (from pandas->mplfinance) (2023.3.post1)\n",
            "Requirement already satisfied: tzdata>=2022.1 in ./lib/python3.11/site-packages (from pandas->mplfinance) (2023.3)\n",
            "Requirement already satisfied: six>=1.5 in ./lib/python3.11/site-packages (from python-dateutil>=2.7->matplotlib->mplfinance) (1.16.0)\n",
            "\n",
            "\u001b[1m[\u001b[0m\u001b[34;49mnotice\u001b[0m\u001b[1;39;49m]\u001b[0m\u001b[39;49m A new release of pip is available: \u001b[0m\u001b[31;49m23.2.1\u001b[0m\u001b[39;49m -> \u001b[0m\u001b[32;49m23.3.1\u001b[0m\n",
            "\u001b[1m[\u001b[0m\u001b[34;49mnotice\u001b[0m\u001b[1;39;49m]\u001b[0m\u001b[39;49m To update, run: \u001b[0m\u001b[32;49mpip install --upgrade pip\u001b[0m\n",
            "Note: you may need to restart the kernel to use updated packages.\n",
            "Requirement already satisfied: ta in ./lib/python3.11/site-packages (0.11.0)\n",
            "Requirement already satisfied: numpy in ./lib/python3.11/site-packages (from ta) (1.26.2)\n",
            "Requirement already satisfied: pandas in ./lib/python3.11/site-packages (from ta) (2.1.3)\n",
            "Requirement already satisfied: python-dateutil>=2.8.2 in ./lib/python3.11/site-packages (from pandas->ta) (2.8.2)\n",
            "Requirement already satisfied: pytz>=2020.1 in ./lib/python3.11/site-packages (from pandas->ta) (2023.3.post1)\n",
            "Requirement already satisfied: tzdata>=2022.1 in ./lib/python3.11/site-packages (from pandas->ta) (2023.3)\n",
            "Requirement already satisfied: six>=1.5 in ./lib/python3.11/site-packages (from python-dateutil>=2.8.2->pandas->ta) (1.16.0)\n",
            "\n",
            "\u001b[1m[\u001b[0m\u001b[34;49mnotice\u001b[0m\u001b[1;39;49m]\u001b[0m\u001b[39;49m A new release of pip is available: \u001b[0m\u001b[31;49m23.2.1\u001b[0m\u001b[39;49m -> \u001b[0m\u001b[32;49m23.3.1\u001b[0m\n",
            "\u001b[1m[\u001b[0m\u001b[34;49mnotice\u001b[0m\u001b[1;39;49m]\u001b[0m\u001b[39;49m To update, run: \u001b[0m\u001b[32;49mpip install --upgrade pip\u001b[0m\n",
            "Note: you may need to restart the kernel to use updated packages.\n",
            "Requirement already satisfied: plotly in ./lib/python3.11/site-packages (5.18.0)\n",
            "Requirement already satisfied: tenacity>=6.2.0 in ./lib/python3.11/site-packages (from plotly) (8.2.3)\n",
            "Requirement already satisfied: packaging in ./lib/python3.11/site-packages (from plotly) (23.2)\n",
            "\n",
            "\u001b[1m[\u001b[0m\u001b[34;49mnotice\u001b[0m\u001b[1;39;49m]\u001b[0m\u001b[39;49m A new release of pip is available: \u001b[0m\u001b[31;49m23.2.1\u001b[0m\u001b[39;49m -> \u001b[0m\u001b[32;49m23.3.1\u001b[0m\n",
            "\u001b[1m[\u001b[0m\u001b[34;49mnotice\u001b[0m\u001b[1;39;49m]\u001b[0m\u001b[39;49m To update, run: \u001b[0m\u001b[32;49mpip install --upgrade pip\u001b[0m\n",
            "Note: you may need to restart the kernel to use updated packages.\n",
            "Requirement already satisfied: backtesting in ./lib/python3.11/site-packages (0.3.3)\n",
            "Requirement already satisfied: numpy>=1.17.0 in ./lib/python3.11/site-packages (from backtesting) (1.26.2)\n",
            "Requirement already satisfied: pandas!=0.25.0,>=0.25.0 in ./lib/python3.11/site-packages (from backtesting) (2.1.3)\n",
            "Requirement already satisfied: bokeh>=1.4.0 in ./lib/python3.11/site-packages (from backtesting) (3.2.1)\n",
            "Requirement already satisfied: Jinja2>=2.9 in ./lib/python3.11/site-packages (from bokeh>=1.4.0->backtesting) (3.1.2)\n",
            "Requirement already satisfied: contourpy>=1 in ./lib/python3.11/site-packages (from bokeh>=1.4.0->backtesting) (1.2.0)\n",
            "Requirement already satisfied: packaging>=16.8 in ./lib/python3.11/site-packages (from bokeh>=1.4.0->backtesting) (23.2)\n",
            "Requirement already satisfied: pillow>=7.1.0 in ./lib/python3.11/site-packages (from bokeh>=1.4.0->backtesting) (10.1.0)\n",
            "Requirement already satisfied: PyYAML>=3.10 in ./lib/python3.11/site-packages (from bokeh>=1.4.0->backtesting) (6.0.1)\n",
            "Requirement already satisfied: tornado>=5.1 in ./lib/python3.11/site-packages (from bokeh>=1.4.0->backtesting) (6.3.3)\n",
            "Requirement already satisfied: xyzservices>=2021.09.1 in ./lib/python3.11/site-packages (from bokeh>=1.4.0->backtesting) (2023.10.1)\n",
            "Requirement already satisfied: python-dateutil>=2.8.2 in ./lib/python3.11/site-packages (from pandas!=0.25.0,>=0.25.0->backtesting) (2.8.2)\n",
            "Requirement already satisfied: pytz>=2020.1 in ./lib/python3.11/site-packages (from pandas!=0.25.0,>=0.25.0->backtesting) (2023.3.post1)\n",
            "Requirement already satisfied: tzdata>=2022.1 in ./lib/python3.11/site-packages (from pandas!=0.25.0,>=0.25.0->backtesting) (2023.3)\n",
            "Requirement already satisfied: MarkupSafe>=2.0 in ./lib/python3.11/site-packages (from Jinja2>=2.9->bokeh>=1.4.0->backtesting) (2.1.3)\n",
            "Requirement already satisfied: six>=1.5 in ./lib/python3.11/site-packages (from python-dateutil>=2.8.2->pandas!=0.25.0,>=0.25.0->backtesting) (1.16.0)\n",
            "\n",
            "\u001b[1m[\u001b[0m\u001b[34;49mnotice\u001b[0m\u001b[1;39;49m]\u001b[0m\u001b[39;49m A new release of pip is available: \u001b[0m\u001b[31;49m23.2.1\u001b[0m\u001b[39;49m -> \u001b[0m\u001b[32;49m23.3.1\u001b[0m\n",
            "\u001b[1m[\u001b[0m\u001b[34;49mnotice\u001b[0m\u001b[1;39;49m]\u001b[0m\u001b[39;49m To update, run: \u001b[0m\u001b[32;49mpip install --upgrade pip\u001b[0m\n",
            "Note: you may need to restart the kernel to use updated packages.\n",
            "Requirement already satisfied: bokeh==3.2.1 in ./lib/python3.11/site-packages (3.2.1)\n",
            "Requirement already satisfied: Jinja2>=2.9 in ./lib/python3.11/site-packages (from bokeh==3.2.1) (3.1.2)\n",
            "Requirement already satisfied: contourpy>=1 in ./lib/python3.11/site-packages (from bokeh==3.2.1) (1.2.0)\n",
            "Requirement already satisfied: numpy>=1.16 in ./lib/python3.11/site-packages (from bokeh==3.2.1) (1.26.2)\n",
            "Requirement already satisfied: packaging>=16.8 in ./lib/python3.11/site-packages (from bokeh==3.2.1) (23.2)\n",
            "Requirement already satisfied: pandas>=1.2 in ./lib/python3.11/site-packages (from bokeh==3.2.1) (2.1.3)\n",
            "Requirement already satisfied: pillow>=7.1.0 in ./lib/python3.11/site-packages (from bokeh==3.2.1) (10.1.0)\n",
            "Requirement already satisfied: PyYAML>=3.10 in ./lib/python3.11/site-packages (from bokeh==3.2.1) (6.0.1)\n",
            "Requirement already satisfied: tornado>=5.1 in ./lib/python3.11/site-packages (from bokeh==3.2.1) (6.3.3)\n",
            "Requirement already satisfied: xyzservices>=2021.09.1 in ./lib/python3.11/site-packages (from bokeh==3.2.1) (2023.10.1)\n",
            "Requirement already satisfied: MarkupSafe>=2.0 in ./lib/python3.11/site-packages (from Jinja2>=2.9->bokeh==3.2.1) (2.1.3)\n",
            "Requirement already satisfied: python-dateutil>=2.8.2 in ./lib/python3.11/site-packages (from pandas>=1.2->bokeh==3.2.1) (2.8.2)\n",
            "Requirement already satisfied: pytz>=2020.1 in ./lib/python3.11/site-packages (from pandas>=1.2->bokeh==3.2.1) (2023.3.post1)\n",
            "Requirement already satisfied: tzdata>=2022.1 in ./lib/python3.11/site-packages (from pandas>=1.2->bokeh==3.2.1) (2023.3)\n",
            "Requirement already satisfied: six>=1.5 in ./lib/python3.11/site-packages (from python-dateutil>=2.8.2->pandas>=1.2->bokeh==3.2.1) (1.16.0)\n",
            "\n",
            "\u001b[1m[\u001b[0m\u001b[34;49mnotice\u001b[0m\u001b[1;39;49m]\u001b[0m\u001b[39;49m A new release of pip is available: \u001b[0m\u001b[31;49m23.2.1\u001b[0m\u001b[39;49m -> \u001b[0m\u001b[32;49m23.3.1\u001b[0m\n",
            "\u001b[1m[\u001b[0m\u001b[34;49mnotice\u001b[0m\u001b[1;39;49m]\u001b[0m\u001b[39;49m To update, run: \u001b[0m\u001b[32;49mpip install --upgrade pip\u001b[0m\n",
            "Note: you may need to restart the kernel to use updated packages.\n",
            "Requirement already satisfied: openpyxl in ./lib/python3.11/site-packages (3.1.2)\n",
            "Requirement already satisfied: et-xmlfile in ./lib/python3.11/site-packages (from openpyxl) (1.1.0)\n",
            "\n",
            "\u001b[1m[\u001b[0m\u001b[34;49mnotice\u001b[0m\u001b[1;39;49m]\u001b[0m\u001b[39;49m A new release of pip is available: \u001b[0m\u001b[31;49m23.2.1\u001b[0m\u001b[39;49m -> \u001b[0m\u001b[32;49m23.3.1\u001b[0m\n",
            "\u001b[1m[\u001b[0m\u001b[34;49mnotice\u001b[0m\u001b[1;39;49m]\u001b[0m\u001b[39;49m To update, run: \u001b[0m\u001b[32;49mpip install --upgrade pip\u001b[0m\n",
            "Note: you may need to restart the kernel to use updated packages.\n"
          ]
        }
      ],
      "source": [
        "# Data visualisation and manipulate\n",
        "%pip install numpy\n",
        "%pip install pandas\n",
        "%pip install matplotlib\n",
        "%pip install seaborn\n",
        "%pip install scipy\n",
        "\n",
        "import numpy as np\n",
        "import pandas as pd\n",
        "import matplotlib.pyplot as plt\n",
        "import seaborn as sns\n",
        "import statistics\n",
        "import math\n",
        "\n",
        "## For Monte Carlo Simuation\n",
        "from math import *\n",
        "from scipy.stats import norm\n",
        "import random\n",
        "\n",
        "# Download stock data from Yahoo! Finance stock data\n",
        "%pip install yfinance\n",
        "import yfinance as yf\n",
        "\n",
        "# import pandas_datareader as pdr\n",
        "from datetime import datetime , timedelta\n",
        "from dateutil.relativedelta import relativedelta\n",
        "from copy import copy\n",
        "\n",
        "\n",
        "# for candlestick plot libraries\n",
        "%pip install mplfinance\n",
        "import mplfinance as fplt\n",
        "\n",
        "# for technical indicators\n",
        "%pip install ta\n",
        "from ta import trend, volatility , momentum\n",
        "import ta\n",
        "\n",
        "#for plotting portfolio\n",
        "%pip install plotly\n",
        "import plotly.express as px\n",
        "import plotly.figure_factory as ff\n",
        "import plotly.graph_objects as go\n",
        "\n",
        "#stocks trading simulator\n",
        "%pip install backtesting\n",
        "%pip install bokeh==3.2.1\n",
        "\n",
        "%pip install openpyxl"
      ]
    },
    {
      "cell_type": "markdown",
      "metadata": {
        "id": "CPzhuRrmomFL"
      },
      "source": [
        "# 2.0 Download stocks data\n"
      ]
    },
    {
      "cell_type": "markdown",
      "metadata": {
        "id": "GsQfEKE1qEO3"
      },
      "source": [
        "## 2.1 Timeframe"
      ]
    },
    {
      "cell_type": "code",
      "execution_count": 2,
      "metadata": {
        "colab": {
          "base_uri": "https://localhost:8080/"
        },
        "id": "26KT9H2cop4H",
        "outputId": "002ce860-b523-4f01-bf6e-2a51dcf61b15"
      },
      "outputs": [
        {
          "name": "stdout",
          "output_type": "stream",
          "text": [
            "The starting date is 30/09/2022\n",
            "The end date is  30/09/2023\n",
            "The total days is 365\n"
          ]
        }
      ],
      "source": [
        "import datetime\n",
        "\n",
        "start_date = datetime.datetime(2022, 9, 30)\n",
        "end_date = start_date + relativedelta(months=12)\n",
        "total_days = end_date - start_date\n",
        "\n",
        "print(\"The starting date is\", start_date.strftime(\"%d/%m/%Y\"))\n",
        "print(\"The end date is \", end_date.strftime(\"%d/%m/%Y\"))\n",
        "print(\"The total days is\", total_days.days)"
      ]
    },
    {
      "cell_type": "markdown",
      "metadata": {
        "id": "PweSrP6qqAUu"
      },
      "source": [
        "## 2.2 Stocks"
      ]
    },
    {
      "cell_type": "code",
      "execution_count": 71,
      "metadata": {
        "colab": {
          "base_uri": "https://localhost:8080/"
        },
        "id": "ETv66dIuqJ5Y",
        "outputId": "14a8a118-c66c-420f-c81f-65cba33786d8"
      },
      "outputs": [
        {
          "name": "stdout",
          "output_type": "stream",
          "text": [
            "[*********************100%%**********************]  1 of 1 completed\n",
            "[*********************100%%**********************]  1 of 1 completed"
          ]
        },
        {
          "name": "stdout",
          "output_type": "stream",
          "text": [
            "\n",
            "[*********************100%%**********************]  1 of 1 completed\n",
            "[*********************100%%**********************]  1 of 1 completed\n",
            "[*********************100%%**********************]  1 of 1 completed\n",
            "[*********************100%%**********************]  1 of 1 completed\n",
            "[*********************100%%**********************]  1 of 1 completed\n",
            "[*********************100%%**********************]  1 of 1 completed\n",
            "[*********************100%%**********************]  1 of 1 completed\n",
            "[*********************100%%**********************]  1 of 1 completed\n",
            "[*********************100%%**********************]  1 of 1 completed\n"
          ]
        }
      ],
      "source": [
        "#Stock data download from Yahoo! Finance\n",
        "\n",
        "# 1. HSBC\n",
        "# 2. MTR\n",
        "# 3. China Mobile\n",
        "# 4. CLP Holdings\n",
        "# 5. Hang Seng Bank\n",
        "# 6. Bank of China\n",
        "\n",
        "\n",
        "HSBC = {\n",
        "    'name': 'HSBC',\n",
        "    'data': yf.download(\"0005.HK\", start_date, end_date)\n",
        "    }\n",
        "MTR = {\n",
        "    'name': 'MTR',\n",
        "    'data': yf.download(\"0066.HK\", start_date, end_date)\n",
        "}\n",
        "CHM = {\n",
        "    'name': 'China Mobile',\n",
        "    'data': yf.download(\"0941.HK\", start_date, end_date)\n",
        "}\n",
        "CLP = {\n",
        "    'name': 'CLP Holdings',\n",
        "    'data': yf.download(\"0002.HK\", start_date, end_date)\n",
        "}\n",
        "HSB = {\n",
        "    'name': 'Hang Seng Bank',\n",
        "    'data': yf.download(\"0011.HK\", start_date, end_date)\n",
        "}\n",
        "BOC = {\n",
        "    'name': 'Bank of China',\n",
        "    'data': yf.download(\"3988.HK\", start_date, end_date)\n",
        "}\n",
        "CBC = {\n",
        "    'name': 'China Construction Bank',\n",
        "    'data': yf.download(\"0939.HK\", start_date, end_date)\n",
        "}\n",
        "HSH = {\n",
        "    'name': 'Haier Smart Home',\n",
        "    'data': yf.download(\"6690.HK\", start_date, end_date)\n",
        "}\n",
        "MET = {\n",
        "    'name': 'Meituan',\n",
        "    'data': yf.download(\"3690.HK\", start_date, end_date)\n",
        "}\n",
        "XMC = {\n",
        "    'name': 'Xiaomi Corporation',\n",
        "    'data': yf.download(\"1810.HK\", start_date, end_date)\n",
        "}\n",
        "HSI = {\n",
        "    'name': 'Hang Seng Index',\n",
        "    'data': yf.download(\"^HSI\", start_date, end_date)\n",
        "}\n",
        "\n",
        "STOCKS = [HSBC, CHM, CLP, CBC, HSH, XMC]"
      ]
    },
    {
      "cell_type": "markdown",
      "metadata": {
        "id": "PZ1vBQ2Nwndh"
      },
      "source": [
        "## 2.3 Calculate Technical Indicators (for reference only)\n",
        "\n"
      ]
    },
    {
      "cell_type": "code",
      "execution_count": 72,
      "metadata": {
        "colab": {
          "base_uri": "https://localhost:8080/",
          "height": 646
        },
        "id": "hDGzjFiDwmQs",
        "outputId": "07641eb7-b750-4639-d22e-40b434b72c0b"
      },
      "outputs": [],
      "source": [
        "def calculate_technical_indicators(close_price, high, low):\n",
        "    # Calculate RSI\n",
        "    rsi = ta.momentum.RSIIndicator(close_price).rsi()\n",
        "\n",
        "    # Calculate Bollinger Bands\n",
        "    bollinger_bands = ta.volatility.BollingerBands(close_price)\n",
        "    upper_band = bollinger_bands.bollinger_hband()\n",
        "    middle_band = bollinger_bands.bollinger_mavg()\n",
        "    lower_band = bollinger_bands.bollinger_lband()\n",
        "\n",
        "    # Calculate MACD\n",
        "    macd = ta.trend.MACD(close_price).macd()\n",
        "    macd_signal = ta.trend.MACD(close_price).macd_signal()\n",
        "\n",
        "    # ADX\n",
        "    adx = ta.trend.adx(high, low, close_price)\n",
        "\n",
        "    # Aroon Indicator\n",
        "    aroon_indicator = ta.trend.AroonIndicator(close_price, low).aroon_indicator()\n",
        "    \n",
        "    roc = ta.momentum.ROCIndicator(pd.Series(close_price)).roc()\n",
        "\n",
        "    # Create a DataFrame to store the calculated indicators\n",
        "\n",
        "    indicators = pd.DataFrame({\n",
        "        'RSI': rsi,\n",
        "        'Upper Bollinger Band': upper_band,\n",
        "        'Middle Bollinger Band': middle_band,\n",
        "        'Lower Bollinger Band': lower_band,\n",
        "        'MACD': macd,\n",
        "        'MACD Signal': macd_signal,\n",
        "        'Aroon Indicator': aroon_indicator,\n",
        "        'ADX': adx,\n",
        "        'ROC': roc\n",
        "    })\n",
        "\n",
        "\n",
        "\n",
        "    return indicators\n",
        "\n",
        "# Combine all stock data\n",
        "# all_data = pd.concat([HSBC['Close'], MTR['Close'], CHM['Close'], CLP['Close'], HSB['Close'], BOC['Close']], axis=1)\n",
        "# all_data.columns = ['HSBC', 'MTR', 'CHM', 'CLP', 'HSB', 'BOC']\n",
        "\n",
        "for stock in STOCKS:\n",
        "  stock['TA'] = pd.concat([stock['data'],calculate_technical_indicators(stock['data']['Close'], stock['data']['High'], stock['data']['Low'])])\n",
        "\n",
        "\n"
      ]
    },
    {
      "cell_type": "markdown",
      "metadata": {},
      "source": [
        "## 2.4 Set up for Portfolio Optimization"
      ]
    },
    {
      "cell_type": "code",
      "execution_count": 65,
      "metadata": {},
      "outputs": [
        {
          "name": "stdout",
          "output_type": "stream",
          "text": [
            "The starting date is 30/09/2021\n",
            "The end date is  30/09/2022\n",
            "The total days is 365\n",
            "[*********************100%%**********************]  1 of 1 completed\n",
            "[*********************100%%**********************]  1 of 1 completed\n",
            "[*********************100%%**********************]  1 of 1 completed\n",
            "[*********************100%%**********************]  1 of 1 completed\n",
            "[*********************100%%**********************]  1 of 1 completed\n",
            "[*********************100%%**********************]  1 of 1 completed\n"
          ]
        }
      ],
      "source": [
        "prev_year_start_date = datetime.datetime(2021, 9, 30)\n",
        "prev_year_end_date = prev_year_start_date + relativedelta(months=12)\n",
        "port_opt_total_days = prev_year_end_date - prev_year_start_date\n",
        "\n",
        "print(\"The starting date is\", prev_year_start_date.strftime(\"%d/%m/%Y\"))\n",
        "print(\"The end date is \", prev_year_end_date.strftime(\"%d/%m/%Y\"))\n",
        "print(\"The total days is\", port_opt_total_days.days)\n",
        "\n",
        "OPTIMIZATION_DATA = {\n",
        "  'HSBC' : yf.download(\"0005.HK\", prev_year_start_date, prev_year_end_date),\n",
        "  'China Mobile' : yf.download(\"0941.HK\", prev_year_start_date, prev_year_end_date),\n",
        "  'CLP Holdings' : yf.download(\"0002.HK\", prev_year_start_date, prev_year_end_date),\n",
        "  'China Construction Bank': yf.download(\"0939.HK\", prev_year_start_date, prev_year_end_date),\n",
        "  'Haier Smart Home': yf.download(\"6690.HK\", prev_year_start_date, prev_year_end_date),\n",
        "  'Xiaomi Corporation': yf.download(\"1810.HK\", prev_year_start_date, prev_year_end_date),\n",
        "}\n",
        "\n",
        "\n"
      ]
    },
    {
      "cell_type": "markdown",
      "metadata": {},
      "source": [
        "### 2.4.1 Portfolio Optimization\n",
        "\n",
        "https://www.analyticsvidhya.com/blog/2021/04/portfolio-optimization-using-mpt-in-python/\n"
      ]
    },
    {
      "cell_type": "code",
      "execution_count": 91,
      "metadata": {},
      "outputs": [
        {
          "name": "stdout",
          "output_type": "stream",
          "text": [
            "Portfolio Variance is 0.033796733266850794\n",
            "Portfolio Volatility(Risk) is 0.1838388785508952\n"
          ]
        },
        {
          "data": {
            "text/plain": [
              "Returns                   -0.054141\n",
              "Volatility                 2.501392\n",
              "HSBC                       0.122447\n",
              "China Mobile               0.550795\n",
              "CLP Holdings               0.010525\n",
              "China Construction Bank    0.220570\n",
              "Haier Smart Home           0.077088\n",
              "Xiaomi Corporation         0.018575\n",
              "Name: 2918, dtype: float64"
            ]
          },
          "execution_count": 91,
          "metadata": {},
          "output_type": "execute_result"
        },
        {
          "data": {
            "image/png": "[encoded data removed]",
            "text/plain": [
              "<Figure size 800x800 with 1 Axes>"
            ]
          },
          "metadata": {},
          "output_type": "display_data"
        }
      ],
      "source": [
        "portfolio = {}\n",
        "for stock in OPTIMIZATION_DATA:\n",
        "  portfolio[stock] = OPTIMIZATION_DATA[stock]['Close']\n",
        "portfolio = pd.DataFrame(data=portfolio)\n",
        "returns_portfolio = portfolio.pct_change()\n",
        "trading_days = len(returns_portfolio.index)\n",
        "weight_portfolio = [0.167, 0.167, 0.167, 0.167, 0.167, 0.167]\n",
        "portfolio_return = returns_portfolio.dot(weight_portfolio)\n",
        "\n",
        "variance_matrix = returns_portfolio.cov()*trading_days\n",
        "\n",
        "portfolio_variance = np.transpose(weight_portfolio)@variance_matrix@weight_portfolio\n",
        "portfolio_volatility = np.sqrt(portfolio_variance)\n",
        "print(\"Portfolio Variance is\", portfolio_variance)\n",
        "print(\"Portfolio Volatility(Risk) is\", portfolio_volatility)\n",
        "\n",
        "port_returns = []\n",
        "port_volatility = []\n",
        "port_weights = []\n",
        "\n",
        "num_assets = len(portfolio.columns)\n",
        "num_portfolios = 10000\n",
        "\n",
        "individual_rets = portfolio.resample('Y').last().pct_change().mean()\n",
        "for port in range(num_portfolios):\n",
        "  weights = np.random.random(num_assets)\n",
        "  weights = weights/np.sum(weights)\n",
        "  port_weights.append(weights)\n",
        "  returns = np.dot(weights, individual_rets)\n",
        "  port_returns.append(returns)\n",
        "  \n",
        "  var = variance_matrix.mul(weights, axis=0).mul(weights, axis=1).sum().sum()\n",
        "  sd = np.sqrt(var)\n",
        "  ann_sd = sd*np.sqrt(250)\n",
        "  port_volatility.append(ann_sd)\n",
        "\n",
        "data = {'Returns': port_returns, 'Volatility': port_volatility}\n",
        "\n",
        "for counter, symbol in enumerate(portfolio.columns.tolist()):\n",
        "  data[symbol] = [w[counter] for w in port_weights]\n",
        "\n",
        "portfolios_V1 = pd.DataFrame(data) \n",
        "portfolios_V1.head()\n",
        "\n",
        "portfolios_V1.plot.scatter(x='Volatility', y='Returns', marker='o', color='y',\n",
        "                           s=15, alpha=0.5, grid=True, figsize=[8,8])\n",
        "plt.xlabel('Risk (Volatility)')\n",
        "plt.ylabel('Expected Returns')\n",
        "\n",
        "rf = 0.01\n",
        "optimal_risky_port = portfolios_V1.iloc[((portfolios_V1['Returns']-rf)/portfolios_V1['Volatility']).idxmax()]\n",
        "optimal_risky_port"
      ]
    },
    {
      "cell_type": "code",
      "execution_count": 67,
      "metadata": {},
      "outputs": [
        {
          "data": {
            "text/plain": [
              "{'HSBC': 0.21503685984832818,\n",
              " 'China Mobile': 0.6102013565866987,\n",
              " 'CLP Holdings': 0.0622594724381857,\n",
              " 'China Construction Bank': 0.06898046532728369,\n",
              " 'Haier Smart Home': 0.0016806073359677618,\n",
              " 'Xiaomi Corporation': 0.04184123846353616}"
            ]
          },
          "execution_count": 67,
          "metadata": {},
          "output_type": "execute_result"
        }
      ],
      "source": [
        "distribution = optimal_risky_port.rename('Weighting')\n",
        "distribution = distribution.iloc[2:]\n",
        "distribution\n",
        "\n",
        "weighting = distribution.to_dict()\n",
        "weighting"
      ]
    },
    {
      "cell_type": "markdown",
      "metadata": {
        "id": "53kcx79XEk8k"
      },
      "source": [
        "# 3.0 Stock Trading Simulation"
      ]
    },
    {
      "cell_type": "code",
      "execution_count": 92,
      "metadata": {
        "id": "8lhXn1znX8Ec"
      },
      "outputs": [],
      "source": [
        "import pandas as pd\n",
        "import warnings\n",
        "from openpyxl.workbook import Workbook\n",
        "import os\n",
        "warnings.filterwarnings(\"ignore\")\n",
        "\n",
        "if not os.path.isdir(\"excel\"):\n",
        "  os.mkdir(\"excel\")\n",
        "if not os.path.isdir(\"plots\"):\n",
        "  os.mkdir(\"plots\")\n",
        "\n",
        "# Define technical indicator formulas\n",
        "\n",
        "\n",
        "\n",
        "def BollingerBands(values):\n",
        "    bollinger_bands = ta.volatility.BollingerBands(pd.Series(values))\n",
        "    upper_band = bollinger_bands.bollinger_hband()\n",
        "    middle_band = bollinger_bands.bollinger_mavg()\n",
        "    lower_band = bollinger_bands.bollinger_lband()\n",
        "    return upper_band, middle_band, lower_band\n",
        "\n",
        "def SMA(values, n):\n",
        "    return pd.Series(values).rolling(n).mean()\n",
        "\n",
        "def RSI(values):\n",
        "    return ta.momentum.RSIIndicator(pd.Series(values)).rsi()\n",
        "\n",
        "def MACD(values):\n",
        "    macd = ta.trend.MACD(pd.Series(values))\n",
        "    return macd.macd(), macd.macd_signal()\n",
        "\n",
        "def MACD_Value(values):\n",
        "  return ta.trend.MACD(pd.Series(values)).macd()\n",
        "\n",
        "def MACD_Signal(values):\n",
        "  return ta.trend.MACD(pd.Series(values)).macd_signal()\n",
        "\n",
        "def GET_HSI(values):\n",
        "  return HSI['data']\n",
        "\n",
        "def ADX(high, low, close):\n",
        "  return ta.trend.adx(pd.Series(high), pd.Series(low), pd.Series(close))\n",
        "\n",
        "def Aroon_Indicator(close, low):\n",
        "  return ta.trend.AroonIndicator(pd.Series(close), pd.Series(low)).aroon_indicator()\n",
        "\n",
        "def Stochastic_Oscillator(high, low, close):\n",
        "  return ta.momentum.stoch_signal(pd.Series(high), pd.Series(low), pd.Series(close))\n",
        "\n",
        "def EMA(close, n):\n",
        "   return ta.trend.EMAIndicator(pd.Series(close), n).ema_indicator() \n",
        "\n",
        "def ROC(close):\n",
        "  return ta.momentum.ROCIndicator(pd.Series(close)).roc()\n",
        "\n",
        "from backtesting import Backtest, Strategy\n",
        "from backtesting.lib import crossover\n",
        "\n",
        "\n",
        "# Formula for computing result with given strategy\n",
        "def RunSimulation(TradingStrategy, plot = {}, plotAll = False, optimisation = False, strategy=''):\n",
        "  stockNames = []\n",
        "  returns = []\n",
        "  trades = []\n",
        "  equityFinal = []\n",
        "  equityData = []\n",
        "  tradeData = []\n",
        "  statsData=[]\n",
        "  for stock in STOCKS:\n",
        "    stockName = stock['name']\n",
        "    # cashAmt = weighting[stockName] * 100_000_0\n",
        "    cashAmt = 100_000_0/len(STOCKS)\n",
        "    bt = Backtest(stock[\"data\"], TradingStrategy, cash=cashAmt, commission=0, trade_on_close=True)\n",
        "    stats = bt.run()\n",
        "\n",
        "    directory = 'plots/' + strategy \n",
        "    fileName = directory + '/' + stockName \n",
        "    \n",
        "    if not os.path.isdir(directory):\n",
        "      os.mkdir(directory)\n",
        "\n",
        "    if plotAll:\n",
        "      bt.plot(filename=fileName)\n",
        "    else:\n",
        "      if stock['name'] in plot:\n",
        "        bt.plot(filename=fileName)\n",
        "\n",
        "    stockNames.append(stock['name'])\n",
        "    returns.append(stats['Return [%]'])\n",
        "    trades.append(stats[\"_trades\"].size)\n",
        "    equityFinal.append(stats['Equity Final [$]'])\n",
        "    equityDF = stats['_equity_curve']\n",
        "    equityDF[\"Close\"] = stock['data']['Close']\n",
        "    equityDF = equityDF.drop(\"DrawdownPct\", axis=1)\n",
        "    equityDF.drop(\"DrawdownDuration\", axis=1)\n",
        "    new_cols = [\"Close\", \"Equity\"]\n",
        "    equityDF = equityDF.reindex(columns=new_cols)\n",
        "\n",
        "    equityData.append(equityDF)\n",
        "    tradeDF = stats['_trades']\n",
        "    tradeData.append(tradeDF)\n",
        "    statsData.append(stats[:-3])\n",
        "  \n",
        "  if (not optimisation):\n",
        "    print(pd.DataFrame({\n",
        "      'Stock': stockNames,\n",
        "      'Return %': returns,\n",
        "      'No of Trades': trades,\n",
        "      'Final Equity': equityFinal\n",
        "    }))\n",
        "    print(f'Total Equity: {round(sum(equityFinal), 2)}')\n",
        "    print(f'Total Return %: {round((sum(equityFinal) - 100_000_0)/100_000_0 * 100, 2)}')\n",
        "\n",
        "    \"\"\" OUTPUT DATA TO EXCEL \"\"\"\n",
        "\n",
        "    filename = 'excel/' + strategy + '-results.xlsx'\n",
        "    with pd.ExcelWriter(filename) as writer:\n",
        "        for i in range(len(STOCKS)):\n",
        "          equityData[i].to_excel(writer, sheet_name=STOCKS[i]['name'] + ' Equity', index=True)\n",
        "          tradeData[i].to_excel(writer, sheet_name=STOCKS[i]['name'] + ' Trades', index=True)\n",
        "          statsData[i].to_excel(writer, sheet_name=STOCKS[i]['name'] + ' Stats', index=True)\n",
        "  \n",
        "\n",
        "  else:\n",
        "    return sum(returns)\n",
        "  \n",
        "\n",
        "def isLarger(first, second):\n",
        "   return first > second\n",
        "\n",
        "def optimiseMA(n1_min, n1_max, n2_min, n2_max, MA):\n",
        "   bestN1 = 0\n",
        "   bestN2 = 0\n",
        "   highestReturn = float('-inf')\n",
        "\n",
        "   for n1 in range(n1_min, n1_max):\n",
        "      for n2 in range(n2_min, n2_max):\n",
        "         if n1 >= n2:\n",
        "            continue\n",
        "        #  print(f'testing n1={n1}, n2={n2}')\n",
        "         result = RunSimulation(buildSMAStrategy(n1, n2, MA), optimisation=True)\n",
        "         if result > highestReturn:\n",
        "            bestN1 = n1\n",
        "            bestN2 = n2\n",
        "            highestReturn = result\n",
        "   print(f'N1={bestN1}, N2={bestN2}, Total Return={highestReturn}')\n",
        "            \n",
        "def buildSMAStrategy(n1, n2, MA):\n",
        "    class TradingStrategy(Strategy):\n",
        "    # Define the two MA lags as *class variables*\n",
        "    # for later optimization\n",
        "\n",
        "      def init(self):\n",
        "        # Precompute the two moving averages\n",
        "        self.ma1 = self.I(MA, self.data.Close, n1)\n",
        "        self.ma2 = self.I(MA, self.data.Close, n2)\n",
        "\n",
        "      def next(self):\n",
        "        # If ma1 crosses above ma2, close any existing\n",
        "        # short trades, and buy the asset\n",
        "        if isLarger(self.ma1, self.ma2):\n",
        "          if self.data.index[-1].weekday() == 4:\n",
        "              self.buy()\n",
        "\n",
        "        elif isLarger(self.ma2, self.ma1):\n",
        "          if self.data.index[-1].weekday() == 4:\n",
        "            if self.position.is_long:\n",
        "              self.position.close() \n",
        "    return TradingStrategy\n",
        "\n",
        "   "
      ]
    },
    {
      "cell_type": "code",
      "execution_count": 334,
      "metadata": {},
      "outputs": [
        {
          "name": "stdout",
          "output_type": "stream",
          "text": [
            "N1=3, N2=19, Total Return=134.68808051633835\n"
          ]
        }
      ],
      "source": [
        "optimiseMA(1, 20, 15, 50, SMA)"
      ]
    },
    {
      "cell_type": "markdown",
      "metadata": {},
      "source": [
        "## 3.1 SMA Crossover"
      ]
    },
    {
      "cell_type": "code",
      "execution_count": 93,
      "metadata": {},
      "outputs": [
        {
          "name": "stdout",
          "output_type": "stream",
          "text": [
            "                     Stock   Return %  No of Trades   Final Equity\n",
            "0                     HSBC  43.904257            40  239840.428713\n",
            "1             China Mobile  22.964920            70  204941.533740\n",
            "2             CLP Holdings   2.924967            70  171541.611235\n",
            "3  China Construction Bank   8.001625            60  180002.708664\n",
            "4         Haier Smart Home  17.747188            70  196245.313292\n",
            "5       Xiaomi Corporation   5.945611            80  176576.018410\n",
            "Total Equity: 1169147.61\n",
            "Total Return %: 16.91\n"
          ]
        }
      ],
      "source": [
        "class TradingStrategy(Strategy):\n",
        "  # Define the two MA lags as *class variables*\n",
        "  # for later optimization\n",
        "  n1 = 5\n",
        "  n2 = 15\n",
        "\n",
        "  def init(self):\n",
        "    # Precompute the two moving averages\n",
        "    self.sma1 = self.I(SMA, self.data.Close, self.n1)\n",
        "    self.sma2 = self.I(SMA, self.data.Close, self.n2)\n",
        "\n",
        "  def next(self):\n",
        "    # If sma1 crosses above sma2, close any existing\n",
        "    # short trades, and buy the asset\n",
        "    if isLarger(self.sma1, self.sma2):\n",
        "      if self.data.index[-1].weekday() == 4:\n",
        "          self.buy()\n",
        "\n",
        "    elif isLarger(self.sma2, self.sma1):\n",
        "      if self.data.index[-1].weekday() == 4:\n",
        "        if self.position.is_long:\n",
        "          self.position.close()\n",
        "\n",
        "RunSimulation(TradingStrategy, strategy='SMA', plotAll=True)\n"
      ]
    },
    {
      "cell_type": "markdown",
      "metadata": {},
      "source": [
        "## 3.1.2 EMA Crossover"
      ]
    },
    {
      "cell_type": "code",
      "execution_count": 361,
      "metadata": {},
      "outputs": [
        {
          "name": "stdout",
          "output_type": "stream",
          "text": [
            "                     Stock   Return %  No of Trades   Final Equity\n",
            "0                     HSBC  54.941676            40  258236.126570\n",
            "1             China Mobile  33.825175            30  223041.958884\n",
            "2             CLP Holdings  -5.795223            60  157007.962138\n",
            "3  China Construction Bank  11.379083            40  185631.805517\n",
            "4         Haier Smart Home   5.339630            60  175566.049531\n",
            "5       Xiaomi Corporation   8.587653            70  180979.422287\n",
            "Total Equity: 1180463.32\n",
            "Total Return %: 18.05\n"
          ]
        }
      ],
      "source": [
        "class TradingStrategy(Strategy):\n",
        "  # Define the two MA lags as *class variables*\n",
        "  # for later optimization\n",
        "  n1 = 3\n",
        "  n2 = 15\n",
        "\n",
        "  def init(self):\n",
        "    # Precompute the two moving averages\n",
        "    self.ema1 = self.I(EMA, self.data.Close, self.n1)\n",
        "    self.ema2 = self.I(EMA, self.data.Close, self.n2)\n",
        "\n",
        "  def next(self):\n",
        "    # If ema1 crosses above ema2, close any existing\n",
        "    # short trades, and buy the asset\n",
        "    if isLarger(self.ema1, self.ema2):\n",
        "      if self.data.index[-1].weekday() == 4:\n",
        "          self.buy()\n",
        "\n",
        "    elif isLarger(self.ema2, self.ema1):\n",
        "      if self.data.index[-1].weekday() == 4:\n",
        "        if self.position.is_long:\n",
        "          self.position.close()\n",
        "\n",
        "RunSimulation(TradingStrategy, strategy='EMA')"
      ]
    },
    {
      "cell_type": "markdown",
      "metadata": {},
      "source": [
        "## 3.2 MACD"
      ]
    },
    {
      "cell_type": "code",
      "execution_count": 362,
      "metadata": {},
      "outputs": [
        {
          "name": "stdout",
          "output_type": "stream",
          "text": [
            "                     Stock   Return %  No of Trades   Final Equity\n",
            "0                     HSBC  25.600988            60  209334.979541\n",
            "1             China Mobile  10.203080            60  183671.800551\n",
            "2             CLP Holdings  -3.683012            60  160528.313868\n",
            "3  China Construction Bank  -6.875812            70  155206.979627\n",
            "4         Haier Smart Home  -4.254395            70  159576.008725\n",
            "5       Xiaomi Corporation -12.775434            80  145374.277119\n",
            "Total Equity: 1013692.36\n",
            "Total Return %: 1.37\n"
          ]
        }
      ],
      "source": [
        "class TradingStrategy(Strategy):\n",
        "\n",
        "  def init(self):\n",
        "    self.macd, self.signal = self.I(MACD, self.data.Close)\n",
        "    self.RSI = self.I(RSI, self.data.Close)\n",
        "\n",
        "  def next(self):\n",
        "    if isLarger(self.signal, self.macd):\n",
        "      if self.data.index[-1].weekday() == 4:\n",
        "        if self.position.is_long:\n",
        "          self.position.close()\n",
        "\n",
        "    elif isLarger(self.macd, self.signal):\n",
        "      if self.data.index[-1].weekday() == 4:\n",
        "        self.buy()\n",
        "\n",
        "\n",
        "RunSimulation(TradingStrategy, strategy='MACD')"
      ]
    },
    {
      "cell_type": "markdown",
      "metadata": {},
      "source": [
        "## 3.3 RSI"
      ]
    },
    {
      "cell_type": "code",
      "execution_count": 75,
      "metadata": {},
      "outputs": [
        {
          "name": "stdout",
          "output_type": "stream",
          "text": [
            "                     Stock   Return %  No of Trades   Final Equity\n",
            "0                     HSBC   3.324402            10  222185.548661\n",
            "1             China Mobile  16.094359            10  708409.356587\n",
            "2             CLP Holdings   0.000000             0   62259.472438\n",
            "3  China Construction Bank   0.000000             0   68980.465327\n",
            "4         Haier Smart Home  14.881521            10    1930.707273\n",
            "5       Xiaomi Corporation   0.000000             0   41841.238464\n",
            "Total Equity: 1105606.79\n",
            "Total Return %: 10.56\n"
          ]
        }
      ],
      "source": [
        "class TradingStrategy(Strategy):\n",
        "  overbought = 70\n",
        "  oversold = 30\n",
        "  def init(self):\n",
        "    self.RSI = self.I(RSI, self.data.Close)\n",
        "\n",
        "  def next(self):\n",
        "    if crossover(self.RSI, 70):\n",
        "      if self.data.index[-1].weekday() == 4:\n",
        "        if self.position.is_long:\n",
        "          self.position.close()\n",
        "\n",
        "    elif crossover(30, self.RSI):\n",
        "      if self.data.index[-1].weekday() == 4:\n",
        "        self.buy()\n",
        "\n",
        "\n",
        "RunSimulation(TradingStrategy, strategy='RSI')\n"
      ]
    },
    {
      "cell_type": "markdown",
      "metadata": {},
      "source": [
        "## 3.4 Bollinger Bands"
      ]
    },
    {
      "cell_type": "code",
      "execution_count": 76,
      "metadata": {},
      "outputs": [
        {
          "name": "stdout",
          "output_type": "stream",
          "text": [
            "                     Stock   Return %  No of Trades   Final Equity\n",
            "0                     HSBC  11.345400            10  239433.651123\n",
            "1             China Mobile   0.303010            10  612050.328373\n",
            "2             CLP Holdings   7.410196            20   66873.021568\n",
            "3  China Construction Bank   0.000000             0   68980.465327\n",
            "4         Haier Smart Home   0.000000             0    1680.607336\n",
            "5       Xiaomi Corporation   3.168841            10   43167.120711\n",
            "Total Equity: 1032185.19\n",
            "Total Return %: 3.22\n"
          ]
        }
      ],
      "source": [
        "class TradingStrategy(Strategy):\n",
        "  def init(self):\n",
        "    self.upper_band, self.middle_band, self.lower_band = self.I(BollingerBands, self.data.Close)\n",
        "\n",
        "  def next(self):\n",
        "    if crossover(self.data.Close, self.upper_band):\n",
        "      if self.data.index[-1].weekday() == 4:\n",
        "        if self.position.is_long:\n",
        "          self.position.close()\n",
        "\n",
        "    elif crossover(self.lower_band, self.data.Close):\n",
        "      if self.data.index[-1].weekday() == 4:\n",
        "        self.buy()\n",
        "\n",
        "\n",
        "RunSimulation(TradingStrategy, strategy='BB')"
      ]
    },
    {
      "cell_type": "markdown",
      "metadata": {},
      "source": [
        "## 3.5 ADX and Bollinger bands"
      ]
    },
    {
      "cell_type": "code",
      "execution_count": 366,
      "metadata": {},
      "outputs": [
        {
          "name": "stdout",
          "output_type": "stream",
          "text": [
            "                     Stock  Return %  No of Trades   Final Equity\n",
            "0                     HSBC  0.000000             0  166666.666667\n",
            "1             China Mobile  0.000000             0  166666.666667\n",
            "2             CLP Holdings  0.000000             0  166666.666667\n",
            "3  China Construction Bank -0.200395            10  166332.674948\n",
            "4         Haier Smart Home  0.000000             0  166666.666667\n",
            "5       Xiaomi Corporation  0.000000             0  166666.666667\n",
            "Total Equity: 999666.01\n",
            "Total Return %: -0.03\n"
          ]
        }
      ],
      "source": [
        "class TradingStrategy(Strategy):\n",
        "  def init(self):\n",
        "    # self.upper_band, self.middle_band, self.lower_band = self.I(BollingerBands, self.data.Close)\n",
        "    self.ADX = self.I(ADX, self.data.High, self.data.Low, self.data.Close)\n",
        "\n",
        "  def next(self):\n",
        "    # Sell condition\n",
        "    if crossover(20, self.ADX):\n",
        "      if self.data.index[-1].weekday() == 4:\n",
        "        if self.position.is_long:\n",
        "          self.position.close()\n",
        "\n",
        "    # Buy condition\n",
        "    elif crossover(self.ADX, 25):\n",
        "      if self.data.index[-1].weekday() == 4:\n",
        "        self.buy()\n",
        "\n",
        "\n",
        "RunSimulation(TradingStrategy, strategy='ADX_BB')"
      ]
    },
    {
      "cell_type": "markdown",
      "metadata": {},
      "source": [
        "## 3.7 Aroon and BB"
      ]
    },
    {
      "cell_type": "code",
      "execution_count": 367,
      "metadata": {
        "id": "OM4omTsq6Jiy"
      },
      "outputs": [
        {
          "name": "stdout",
          "output_type": "stream",
          "text": [
            "                     Stock  Return %  No of Trades   Final Equity\n",
            "0                     HSBC  7.889845            10  179816.407649\n",
            "1             China Mobile -0.833255            10  165277.908961\n",
            "2             CLP Holdings  0.000000             0  166666.666667\n",
            "3  China Construction Bank  0.000000             0  166666.666667\n",
            "4         Haier Smart Home  0.000000             0  166666.666667\n",
            "5       Xiaomi Corporation  1.559739            10  169266.231074\n",
            "Total Equity: 1014360.55\n",
            "Total Return %: 1.44\n"
          ]
        }
      ],
      "source": [
        "class TradingStrategy(Strategy):\n",
        "  def init(self):\n",
        "    self.macd, self.signal = self.I(MACD, self.data.Close)\n",
        "    self.RSI = self.I(RSI, self.data.Close)\n",
        "    self.upper_band, self.middle_band, self.lower_band = self.I(BollingerBands, self.data.Close)\n",
        "    self.ADX = self.I(ADX, self.data.High, self.data.Low, self.data.Close)\n",
        "    self.AI = self.I(Aroon_Indicator, self.data.Close, self.data.Low)\n",
        "\n",
        "  def next(self):\n",
        "    # Sell condition\n",
        "    if self.AI < 0 and crossover(self.data.Close, self.upper_band):\n",
        "      if self.data.index[-1].weekday() == 4:\n",
        "        if self.position.is_long:\n",
        "          self.position.close()\n",
        "\n",
        "    # Buy condition\n",
        "    elif self.AI > 0 and crossover(self.lower_band, self.data.Close):\n",
        "      if self.data.index[-1].weekday() == 4:\n",
        "        self.buy()\n",
        "\n",
        "RunSimulation(TradingStrategy, strategy='AI_BB')\n"
      ]
    },
    {
      "cell_type": "markdown",
      "metadata": {},
      "source": [
        "## 3.8 Aroon and ADX"
      ]
    },
    {
      "cell_type": "code",
      "execution_count": 368,
      "metadata": {},
      "outputs": [
        {
          "name": "stdout",
          "output_type": "stream",
          "text": [
            "                     Stock  Return %  No of Trades   Final Equity\n",
            "0                     HSBC  0.000000             0  166666.666667\n",
            "1             China Mobile -2.240100            10  162933.166667\n",
            "2             CLP Holdings  0.000000             0  166666.666667\n",
            "3  China Construction Bank  2.107732            10  170179.552622\n",
            "4         Haier Smart Home  0.000000             0  166666.666667\n",
            "5       Xiaomi Corporation  0.000000             0  166666.666667\n",
            "Total Equity: 999779.39\n",
            "Total Return %: -0.02\n"
          ]
        }
      ],
      "source": [
        "class TradingStrategy(Strategy):\n",
        "  def init(self):\n",
        "    self.macd, self.signal = self.I(MACD, self.data.Close)\n",
        "    self.RSI = self.I(RSI, self.data.Close)\n",
        "    self.upper_band, self.middle_band, self.lower_band = self.I(BollingerBands, self.data.Close)\n",
        "    self.ADX = self.I(ADX, self.data.High, self.data.Low, self.data.Close)\n",
        "    self.AI = self.I(Aroon_Indicator, self.data.Close, self.data.Low)\n",
        "\n",
        "  def next(self):\n",
        "    # Sell condition\n",
        "    if crossover(0, self.AI) and isLarger(20, self.ADX):\n",
        "      if self.data.index[-1].weekday() == 4:\n",
        "        if self.position.is_long:\n",
        "          self.position.close()\n",
        "\n",
        "    # Buy condition\n",
        "    elif crossover(self.AI, 0) and isLarger(self.ADX, 25):\n",
        "      if self.data.index[-1].weekday() == 4:\n",
        "        self.buy()\n",
        "\n",
        "RunSimulation(TradingStrategy, strategy='AI_ADX')\n"
      ]
    },
    {
      "cell_type": "markdown",
      "metadata": {},
      "source": [
        "## 3.9 ADX and BB"
      ]
    },
    {
      "cell_type": "code",
      "execution_count": 369,
      "metadata": {},
      "outputs": [
        {
          "name": "stdout",
          "output_type": "stream",
          "text": [
            "                     Stock  Return %  No of Trades   Final Equity\n",
            "0                     HSBC  0.000000             0  166666.666667\n",
            "1             China Mobile  0.302995            10  167171.658961\n",
            "2             CLP Holdings  0.000000             0  166666.666667\n",
            "3  China Construction Bank  0.000000             0  166666.666667\n",
            "4         Haier Smart Home  0.000000             0  166666.666667\n",
            "5       Xiaomi Corporation  0.000000             0  166666.666667\n",
            "Total Equity: 1000504.99\n",
            "Total Return %: 0.05\n"
          ]
        }
      ],
      "source": [
        "class TradingStrategy(Strategy):\n",
        "  def init(self):\n",
        "    self.macd, self.signal = self.I(MACD, self.data.Close)\n",
        "    self.RSI = self.I(RSI, self.data.Close)\n",
        "    self.upper_band, self.middle_band, self.lower_band = self.I(BollingerBands, self.data.Close)\n",
        "    self.ADX = self.I(ADX, self.data.High, self.data.Low, self.data.Close)\n",
        "    self.AI = self.I(Aroon_Indicator, self.data.Close, self.data.Low)\n",
        "\n",
        "  def next(self):\n",
        "    # Sell condition\n",
        "    if isLa(self.data.Close, self.upper_band) and isLarger(20, self.ADX):\n",
        "      if self.data.index[-1].weekday() == 4:\n",
        "        if self.position.is_long:\n",
        "          self.position.close()\n",
        "\n",
        "    # Buy condition\n",
        "    elif crossover(self.lower_band, self.data.Close) and isLarger(self.ADX, 25):\n",
        "      if self.data.index[-1].weekday() == 4:\n",
        "        self.buy()\n",
        "\n",
        "RunSimulation(TradingStrategy, strategy='ADX_BB')\n"
      ]
    },
    {
      "cell_type": "markdown",
      "metadata": {},
      "source": [
        "# 4.0 STRATEGIES"
      ]
    },
    {
      "cell_type": "code",
      "execution_count": 373,
      "metadata": {},
      "outputs": [
        {
          "name": "stdout",
          "output_type": "stream",
          "text": [
            "                     Stock   Return %  No of Trades   Final Equity\n",
            "0                     HSBC  30.577495            30  217629.158003\n",
            "1             China Mobile  29.044026            20  215073.376475\n",
            "2             CLP Holdings -12.578286            40  145702.856082\n",
            "3  China Construction Bank   7.638358            30  179397.263013\n",
            "4         Haier Smart Home   3.545164            40  172575.273297\n",
            "5       Xiaomi Corporation  12.596846            20  187661.409630\n",
            "Total Equity: 1118039.34\n",
            "Total Return %: 11.8\n"
          ]
        }
      ],
      "source": [
        "class TradingStrategy(Strategy):\n",
        "  # Define the two MA lags as *class variables*\n",
        "  # for later optimization\n",
        "  n1 = 1\n",
        "  n2 = 20\n",
        "\n",
        "  def init(self):\n",
        "    # Precompute the two moving averages\n",
        "    # self.macd, self.signal = self.I(MACD, self.data.Close)\n",
        "    self.ema1 = self.I(EMA, self.data.Close, self.n1)\n",
        "    self.ema2 = self.I(EMA, self.data.Close, self.n2)\n",
        "    # self.sma1 = self.I(SMA, self.data.Close, self.n1)\n",
        "    # self.sma2 = self.I(SMA, self.data.Close, self.n2)\n",
        "    self.RSI = self.I(RSI, self.data.Close)\n",
        "    # self.ROC = self.I(ROC, self.data.Close)\n",
        "    self.ADX = self.I(ADX, self.data.High, self.data.Low, self.data.Close)\n",
        "    self.AI = self.I(Aroon_Indicator, self.data.Close, self.data.Low)\n",
        "    self.upper_band, self.middle_band, self.lower_band = self.I(BollingerBands, self.data.Close)\n",
        "\n",
        "\n",
        "  def next(self):\n",
        "    if isLarger(self.ema1, self.ema2) and isLarger(self.AI, 0):\n",
        "      if self.data.index[-1].weekday() == 4:\n",
        "          self.buy()\n",
        "\n",
        "    elif isLarger(self.ema2, self.ema1) and isLarger(0, self.AI):\n",
        "      if self.data.index[-1].weekday() == 4:\n",
        "        if self.position.is_long:\n",
        "          self.position.close()\n",
        "\n",
        "\n",
        "RunSimulation(TradingStrategy)"
      ]
    }
  ],
  "metadata": {
    "colab": {
      "provenance": [],
      "toc_visible": true
    },
    "kernelspec": {
      "display_name": "Python 3",
      "name": "python3"
    },
    "language_info": {
      "codemirror_mode": {
        "name": "ipython",
        "version": 3
      },
      "file_extension": ".py",
      "mimetype": "text/x-python",
      "name": "python",
      "nbconvert_exporter": "python",
      "pygments_lexer": "ipython3",
      "version": "3.11.5"
    }
  },
  "nbformat": 4,
  "nbformat_minor": 0
}
